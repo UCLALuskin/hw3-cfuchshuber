{
 "cells": [
  {
   "cell_type": "markdown",
   "id": "ddcce680",
   "metadata": {
    "deletable": false,
    "editable": false,
    "nbgrader": {
     "cell_type": "markdown",
     "checksum": "e6cb8f042ebb7b7bbab256434910ef60",
     "grade": false,
     "grade_id": "cell-b1217afff8bc58c2",
     "locked": true,
     "schema_version": 3,
     "solution": false,
     "task": false
    }
   },
   "source": [
    "## Homework 3: Machine learning\n",
    "\n",
    "In this assignment, we'll practice the classification skills from machine learning. We'll use the precinct-level voting data to predict support for Prop 21 (rent control) on the 2020 ballot. For example, we might expect the share of renters to be an important predictor.\n",
    "\n",
    "We'll also review joins as we prepare the data.\n",
    "\n",
    "Start by loading the 2020 elections results from LA County into a `pandas` dataframe, `voteDf`. (This is exactly the same data as we will use next week in the clustering lectures; I put another copy of the data file in the assignment GitHub folder to make things easier.)\n",
    "\n",
    "### Policy on ChatGPT / AI\n",
    "\n",
    "This is the same as in HWs 1 and 2. Please review those guidelines."
   ]
  },
  {
   "cell_type": "markdown",
   "id": "58ce9f07",
   "metadata": {
    "deletable": false,
    "editable": false,
    "nbgrader": {
     "cell_type": "markdown",
     "checksum": "43e87542bbd93eba65b63d1df946b8b1",
     "grade": false,
     "grade_id": "cell-c4f721042cd05425",
     "locked": true,
     "schema_version": 3,
     "solution": false,
     "task": false
    }
   },
   "source": [
    "Please help me grade by observing the following:\n",
    " \n",
    "* Do not rename this notebook (that messes up the autograder)\n",
    "* Do not include large sections of output (that makes it hard to find your code). For example, use `df.head()` to show the first few rows, rather than printing an entire dataframe. The same goes for printing long strings."
   ]
  },
  {
   "cell_type": "code",
   "execution_count": 2,
   "id": "9f4f8fa1",
   "metadata": {
    "deletable": false,
    "nbgrader": {
     "cell_type": "code",
     "checksum": "30347d5ed1e8164b2c06eb48609ba2cc",
     "grade": false,
     "grade_id": "cell-2ff091f01ca8b647",
     "locked": false,
     "schema_version": 3,
     "solution": true,
     "task": false
    }
   },
   "outputs": [
    {
     "name": "stdout",
     "output_type": "stream",
     "text": [
      "4313\n",
      "   county    srprec  addist  cddist  sddist  bedist  TOTREG  DEMREG  REPREG  \\\n",
      "0      19  0050005A      36      25      21       1    1974       0       0   \n",
      "1      19  0050014A      36      25      21       1     697       0       0   \n",
      "2      19  0050022A      36      27      25       1      61       0       0   \n",
      "3      19  0050024A      41      27      25       1       0       0       0   \n",
      "4      19  0050025A      36      25      25       1       5       0       0   \n",
      "\n",
      "   AIPREG  ...  PR_23_Y  PR_24_N  PR_24_Y  PR_25_N  PR_25_Y  SENAIP01  \\\n",
      "0       0  ...      430      945      771     1304      398         0   \n",
      "1       0  ...      100      314      223      427      116         0   \n",
      "2       0  ...       10       27       22       35       15         0   \n",
      "3       0  ...        0        0        0        0        0         0   \n",
      "4       0  ...        1        2        3        1        3         0   \n",
      "\n",
      "   SENDEM01  SENDEM02  SENLIB01  SENREP01  \n",
      "0       524         0         0      1197  \n",
      "1       163         0         0       373  \n",
      "2        20         0         0        33  \n",
      "3         0         0         0         0  \n",
      "4         2         0         0         3  \n",
      "\n",
      "[5 rows x 73 columns]\n"
     ]
    }
   ],
   "source": [
    "import pandas as pd\n",
    "\n",
    "voteDf = pd.read_csv('c037_g20_sov_data_by_g20_srprec.csv') # replace with your dataframe\n",
    "\n",
    "\n",
    "print(len(voteDf))\n",
    "print(voteDf.head())"
   ]
  },
  {
   "cell_type": "code",
   "execution_count": 4,
   "id": "d55c4df1",
   "metadata": {
    "deletable": false,
    "editable": false,
    "nbgrader": {
     "cell_type": "code",
     "checksum": "0cb332b1f272ab5349b67d3bf2b76c41",
     "grade": true,
     "grade_id": "cell-82c4c318b68ac93b",
     "locked": true,
     "points": 1,
     "schema_version": 3,
     "solution": false,
     "task": false
    }
   },
   "outputs": [],
   "source": [
    "# Autograding tests - do not edit\n",
    "assert len(voteDf) == 4313\n",
    "assert isinstance(voteDf, pd.DataFrame)"
   ]
  },
  {
   "cell_type": "markdown",
   "id": "4c4ff214",
   "metadata": {
    "deletable": false,
    "editable": false,
    "nbgrader": {
     "cell_type": "markdown",
     "checksum": "7f70f7dbb484fc1f79771108c7bc0002",
     "grade": false,
     "grade_id": "cell-8e73935274cd6bac",
     "locked": true,
     "schema_version": 3,
     "solution": false,
     "task": false
    }
   },
   "source": [
    "To do some prediction, we'll want to add variables from (say) the census or other sources.\n",
    "For that, we need the lookup file that matches precincts to census blocks and tracts. [You can find it here](https://statewidedatabase.org/d10/g20_geo_conv.html), or just use the file `c037_g20_sr_blk_map.csv` in your GitHub repository. (Note that there are several types of precincts; the ones that we are using here are called `srprec`.) \n",
    "\n",
    "Each precinct intersects with many census blocks. The `pctsrprec` column tells you how much of the precinct lies within that block. For example, in the first few rows of `c037_g20_sr_blk_map.csv`, you'll see 49 different rows for precinct `0050003A`, each matching to a different census block, with the `pctsrprec` column adding up to 100.\n",
    "\n",
    "Our aim is to create a new dataframe with the vote counts (for all of the propositions and other races) aggregated to census tract. This is a multi-stage process, so let's do this step by step.\n",
    "\n",
    "In this step, you should:\n",
    "- load in the lookup data into a new dataframe, `lookupDf`\n",
    "- join the voting dataframe to the lookup dataframe using `srprec`, to create a new dataframe called `joinDf`. This is a 1:many join, since there are many census blocks per precinct. Do an inner join, as the Null values are not going to be useful to us. (In other words, throw away any lookups that don't match a precinct.)\n",
    "- make sure that `srprec` is the index"
   ]
  },
  {
   "cell_type": "code",
   "execution_count": 6,
   "id": "82282498",
   "metadata": {
    "deletable": false,
    "nbgrader": {
     "cell_type": "code",
     "checksum": "175587793ace31f97af20b41f50d9ae4",
     "grade": false,
     "grade_id": "cell-c7ed8bd92abd47eh",
     "locked": false,
     "schema_version": 3,
     "solution": true,
     "task": false
    }
   },
   "outputs": [],
   "source": [
    "lookupDf = pd.read_csv('c037_g20_sr_blk_map.csv') \n",
    "lookupDf.set_index('srprec', inplace = True)\n",
    "voteDf.set_index('srprec', inplace = True)\n",
    "joinDf = voteDf.join(lookupDf, how='inner')\n",
    "\n"
   ]
  },
  {
   "cell_type": "code",
   "execution_count": 20,
   "id": "82960a61-b3c7-4955-b4b4-782a4ec63f4b",
   "metadata": {},
   "outputs": [
    {
     "name": "stdout",
     "output_type": "stream",
     "text": [
      "77703\n"
     ]
    },
    {
     "data": {
      "text/plain": [
       "1338.0"
      ]
     },
     "execution_count": 20,
     "metadata": {},
     "output_type": "execute_result"
    }
   ],
   "source": [
    "print(len(joinDf))\n",
    "joinDf.iloc[0]"
   ]
  },
  {
   "cell_type": "code",
   "execution_count": 10,
   "id": "2a3f2f2f",
   "metadata": {
    "deletable": false,
    "editable": false,
    "nbgrader": {
     "cell_type": "code",
     "checksum": "147f4a825287b7695a6d4d319621502d",
     "grade": true,
     "grade_id": "cell-286dda81152bd482",
     "locked": true,
     "points": 1,
     "schema_version": 3,
     "solution": false,
     "task": false
    }
   },
   "outputs": [
    {
     "name": "stdout",
     "output_type": "stream",
     "text": [
      "77704\n",
      "77703\n",
      "77703\n",
      "168427815\n"
     ]
    }
   ],
   "source": [
    "print(len(lookupDf))\n",
    "print(len(joinDf))\n",
    "print(joinDf.county.count())\n",
    "print(joinDf.TOTREG.sum())\n",
    "assert joinDf.index.name=='srprec'\n",
    "assert len(lookupDf)==77704\n",
    "assert len(joinDf)==77703\n",
    "assert joinDf.county.count()==77703\n",
    "assert joinDf.TOTREG.sum()==168427815"
   ]
  },
  {
   "cell_type": "markdown",
   "id": "6befe423",
   "metadata": {
    "deletable": false,
    "editable": false,
    "nbgrader": {
     "cell_type": "markdown",
     "checksum": "117929222e3f611a729351cee5825c39",
     "grade": false,
     "grade_id": "cell-7bcea0e4d8ff0da9",
     "locked": true,
     "schema_version": 3,
     "solution": false,
     "task": false
    }
   },
   "source": [
    "Now let's calculate vote shares on Prop 21 and in the presidential race for each census tract. \n",
    "\n",
    "This is slightly tricky, because your data frame `joinDf` will have multiple rows per tract (because the precinct geography does not match the census geography). For example, the following code shows you which precincts intersect with tract 119342. \n",
    "\n",
    "13.65% of the first precinct listed, `9004204A`, is in tract 119342."
   ]
  },
  {
   "cell_type": "code",
   "execution_count": 12,
   "id": "15750cae",
   "metadata": {
    "deletable": false,
    "editable": false,
    "nbgrader": {
     "cell_type": "code",
     "checksum": "b06c7452a13ccb2821cff6520a639b38",
     "grade": false,
     "grade_id": "cell-64a15291025f017a",
     "locked": true,
     "schema_version": 3,
     "solution": false,
     "task": false
    }
   },
   "outputs": [
    {
     "data": {
      "text/html": [
       "<div>\n",
       "<style scoped>\n",
       "    .dataframe tbody tr th:only-of-type {\n",
       "        vertical-align: middle;\n",
       "    }\n",
       "\n",
       "    .dataframe tbody tr th {\n",
       "        vertical-align: top;\n",
       "    }\n",
       "\n",
       "    .dataframe thead th {\n",
       "        text-align: right;\n",
       "    }\n",
       "</style>\n",
       "<table border=\"1\" class=\"dataframe\">\n",
       "  <thead>\n",
       "    <tr style=\"text-align: right;\">\n",
       "      <th></th>\n",
       "      <th>tract</th>\n",
       "      <th>pctsrprec</th>\n",
       "    </tr>\n",
       "    <tr>\n",
       "      <th>srprec</th>\n",
       "      <th></th>\n",
       "      <th></th>\n",
       "    </tr>\n",
       "  </thead>\n",
       "  <tbody>\n",
       "    <tr>\n",
       "      <th>9004204A</th>\n",
       "      <td>119342</td>\n",
       "      <td>13.653137</td>\n",
       "    </tr>\n",
       "    <tr>\n",
       "      <th>9000576A</th>\n",
       "      <td>119342</td>\n",
       "      <td>22.065955</td>\n",
       "    </tr>\n",
       "    <tr>\n",
       "      <th>9000576A</th>\n",
       "      <td>119342</td>\n",
       "      <td>25.412221</td>\n",
       "    </tr>\n",
       "    <tr>\n",
       "      <th>9000576A</th>\n",
       "      <td>119342</td>\n",
       "      <td>0.533463</td>\n",
       "    </tr>\n",
       "  </tbody>\n",
       "</table>\n",
       "</div>"
      ],
      "text/plain": [
       "           tract  pctsrprec\n",
       "srprec                     \n",
       "9004204A  119342  13.653137\n",
       "9000576A  119342  22.065955\n",
       "9000576A  119342  25.412221\n",
       "9000576A  119342   0.533463"
      ]
     },
     "execution_count": 12,
     "metadata": {},
     "output_type": "execute_result"
    }
   ],
   "source": [
    "joinDf[joinDf.tract==119342][['tract','pctsrprec']].sort_index(ascending=False)"
   ]
  },
  {
   "cell_type": "markdown",
   "id": "a7067641",
   "metadata": {
    "deletable": false,
    "editable": false,
    "nbgrader": {
     "cell_type": "markdown",
     "checksum": "6ed88626d5f19d730a72451bb6d4b0fd",
     "grade": false,
     "grade_id": "cell-929fd94be63a3489",
     "locked": true,
     "schema_version": 3,
     "solution": false,
     "task": false
    }
   },
   "source": [
    "So to aggregate to tracts, you should:\n",
    "- for each relevant column, multiply the number of votes by `pctsrprec`, and divide by 100 (because `pctsrprec` is a percentage, not a fraction)\n",
    "- group by census tract and sum those relevant columns, to create a new dataframe called `tractVotes`. It should have columns `PR_21_N`, `PR_21_Y`, `PRSDEM01`, `PRSREP01`, etc.\n",
    "\n",
    "This will give us our estimate of votes at the tract level.\n",
    "\n",
    "*Hint*: You can pass multiple columns to `groupby`. E.g. `df.groupby('groupcol')[['col1','col2','col3']].sum()`"
   ]
  },
  {
   "cell_type": "code",
   "execution_count": 32,
   "id": "f3d77819",
   "metadata": {
    "deletable": false,
    "nbgrader": {
     "cell_type": "code",
     "checksum": "bf5ab9300c3d2259add243d0bbe32ab5",
     "grade": false,
     "grade_id": "cell-863ef266d322296a",
     "locked": false,
     "schema_version": 3,
     "solution": true,
     "task": false
    }
   },
   "outputs": [
    {
     "data": {
      "text/html": [
       "<div>\n",
       "<style scoped>\n",
       "    .dataframe tbody tr th:only-of-type {\n",
       "        vertical-align: middle;\n",
       "    }\n",
       "\n",
       "    .dataframe tbody tr th {\n",
       "        vertical-align: top;\n",
       "    }\n",
       "\n",
       "    .dataframe thead th {\n",
       "        text-align: right;\n",
       "    }\n",
       "</style>\n",
       "<table border=\"1\" class=\"dataframe\">\n",
       "  <thead>\n",
       "    <tr style=\"text-align: right;\">\n",
       "      <th></th>\n",
       "      <th>PR_21_N</th>\n",
       "      <th>PR_21_Y</th>\n",
       "      <th>PRSDEM01</th>\n",
       "      <th>PRSREP01</th>\n",
       "    </tr>\n",
       "    <tr>\n",
       "      <th>tract</th>\n",
       "      <th></th>\n",
       "      <th></th>\n",
       "      <th></th>\n",
       "      <th></th>\n",
       "    </tr>\n",
       "  </thead>\n",
       "  <tbody>\n",
       "    <tr>\n",
       "      <th>101110</th>\n",
       "      <td>1024.227956</td>\n",
       "      <td>857.734445</td>\n",
       "      <td>1090.712262</td>\n",
       "      <td>895.321045</td>\n",
       "    </tr>\n",
       "    <tr>\n",
       "      <th>101122</th>\n",
       "      <td>1138.460030</td>\n",
       "      <td>747.218978</td>\n",
       "      <td>1057.143636</td>\n",
       "      <td>896.821118</td>\n",
       "    </tr>\n",
       "    <tr>\n",
       "      <th>101210</th>\n",
       "      <td>714.308221</td>\n",
       "      <td>849.445489</td>\n",
       "      <td>949.817716</td>\n",
       "      <td>723.604530</td>\n",
       "    </tr>\n",
       "    <tr>\n",
       "      <th>101220</th>\n",
       "      <td>761.014272</td>\n",
       "      <td>528.747773</td>\n",
       "      <td>747.489059</td>\n",
       "      <td>604.907175</td>\n",
       "    </tr>\n",
       "    <tr>\n",
       "      <th>101300</th>\n",
       "      <td>1218.104598</td>\n",
       "      <td>796.031104</td>\n",
       "      <td>1159.946654</td>\n",
       "      <td>948.800765</td>\n",
       "    </tr>\n",
       "  </tbody>\n",
       "</table>\n",
       "</div>"
      ],
      "text/plain": [
       "            PR_21_N     PR_21_Y     PRSDEM01    PRSREP01\n",
       "tract                                                   \n",
       "101110  1024.227956  857.734445  1090.712262  895.321045\n",
       "101122  1138.460030  747.218978  1057.143636  896.821118\n",
       "101210   714.308221  849.445489   949.817716  723.604530\n",
       "101220   761.014272  528.747773   747.489059  604.907175\n",
       "101300  1218.104598  796.031104  1159.946654  948.800765"
      ]
     },
     "execution_count": 32,
     "metadata": {},
     "output_type": "execute_result"
    }
   ],
   "source": [
    "joinDf['PR_21_N'] = (joinDf['PR_21_N']*joinDf['pctsrprec'])/100\n",
    "joinDf['PR_21_Y'] = (joinDf['PR_21_Y']*joinDf['pctsrprec'])/100\n",
    "joinDf['PRSDEM01'] = (joinDf['PRSDEM01']*joinDf['pctsrprec'])/100\n",
    "joinDf['PRSREP01'] = (joinDf['PRSREP01']*joinDf['pctsrprec'])/100\n",
    "tractVotes = joinDf.groupby('tract')[['PR_21_N','PR_21_Y','PRSDEM01','PRSREP01']].sum()\n",
    "tractVotes.head()\n",
    "\n"
   ]
  },
  {
   "cell_type": "code",
   "execution_count": 34,
   "id": "6a8c0926",
   "metadata": {
    "deletable": false,
    "editable": false,
    "nbgrader": {
     "cell_type": "code",
     "checksum": "c2879397fb6221fd24945a2607e48277",
     "grade": true,
     "grade_id": "cell-d616b48580427e62",
     "locked": true,
     "points": 1,
     "schema_version": 3,
     "solution": false,
     "task": false
    }
   },
   "outputs": [
    {
     "name": "stdout",
     "output_type": "stream",
     "text": [
      "2338\n",
      "2021486.9997128805\n"
     ]
    }
   ],
   "source": [
    "print(len(tractVotes))\n",
    "print(tractVotes.PR_21_Y.sum())\n",
    "\n",
    "# Autograding tests - do not edit\n",
    "assert len(tractVotes)==2338\n",
    "assert tractVotes.PR_21_Y.sum().round() == 2021487"
   ]
  },
  {
   "cell_type": "markdown",
   "id": "69cbec5b",
   "metadata": {
    "deletable": false,
    "editable": false,
    "nbgrader": {
     "cell_type": "markdown",
     "checksum": "bac4104c9191b477355b658354b517b3",
     "grade": false,
     "grade_id": "cell-5d1fa0f9a1e656b7",
     "locked": true,
     "schema_version": 3,
     "solution": false,
     "task": false
    }
   },
   "source": [
    "Now let's get a dataframe of some relevant census variables, using the Census Bureau API. Check back to the Week 1 example and the first homework.\n",
    "\n",
    "Create a dataframe, `censusDf`, with ACS 2019 (5 year) tract-level data for LA County, and variables for Tenure (B25003_001E, B25003_002E, B25003_003E) and median household income (B19013_001E). Add a column with the percent of renters, called `pct_renter`.\n",
    "\n",
    "Rename the median HH income column `median_hh_income`, which is more meaningful.\n",
    "\n",
    "Why use ACS 2019 rather than a more recent vintage? Well, the census tract boundaries change after each decennial census (i.e., in 2020), and the precinct-to-tract files we used above map to the pre-2020 census boundaries.\n",
    "\n",
    "As a reminder, here's the Census API [list of tables](https://api.census.gov/data/2019/acs/acs5/variables.html), and [here are examples that you can adapt](https://api.census.gov/data/2019/acs/acs5/examples.html). \n",
    "\n",
    "*Hint:* Make sure to restrict your data request by state AND county if you want to keep it to a manageable size! You shouldn't need to request an API key for a small number of queries..\n",
    "\n",
    "*Hint:* Look at your data if you get the wrong answer to median income! For example, use `censusDf.describe()`, or `censusDf.sort_values(by='med_hh_income').head()`. You might need to replace some values with `np.nan`."
   ]
  },
  {
   "cell_type": "code",
   "execution_count": 103,
   "id": "6b16ca9b",
   "metadata": {
    "deletable": false,
    "nbgrader": {
     "cell_type": "code",
     "checksum": "86c8eb5795a4e76825e7e31ff50ee84b",
     "grade": false,
     "grade_id": "cell-087a1df3d3eb51b0",
     "locked": false,
     "schema_version": 3,
     "solution": true,
     "task": false
    }
   },
   "outputs": [
    {
     "data": {
      "text/html": [
       "<div>\n",
       "<style scoped>\n",
       "    .dataframe tbody tr th:only-of-type {\n",
       "        vertical-align: middle;\n",
       "    }\n",
       "\n",
       "    .dataframe tbody tr th {\n",
       "        vertical-align: top;\n",
       "    }\n",
       "\n",
       "    .dataframe thead th {\n",
       "        text-align: right;\n",
       "    }\n",
       "</style>\n",
       "<table border=\"1\" class=\"dataframe\">\n",
       "  <thead>\n",
       "    <tr style=\"text-align: right;\">\n",
       "      <th></th>\n",
       "      <th>NAME</th>\n",
       "      <th>B25003_001E</th>\n",
       "      <th>B25003_002E</th>\n",
       "      <th>B25003_003E</th>\n",
       "      <th>B19013_001E</th>\n",
       "      <th>state</th>\n",
       "      <th>county</th>\n",
       "      <th>tract</th>\n",
       "    </tr>\n",
       "  </thead>\n",
       "  <tbody>\n",
       "    <tr>\n",
       "      <th>0</th>\n",
       "      <td>Census Tract 4827.02, Los Angeles County, Cali...</td>\n",
       "      <td>802</td>\n",
       "      <td>579</td>\n",
       "      <td>223</td>\n",
       "      <td>82917</td>\n",
       "      <td>06</td>\n",
       "      <td>037</td>\n",
       "      <td>482702</td>\n",
       "    </tr>\n",
       "    <tr>\n",
       "      <th>1</th>\n",
       "      <td>Census Tract 5002.01, Los Angeles County, Cali...</td>\n",
       "      <td>2209</td>\n",
       "      <td>1904</td>\n",
       "      <td>305</td>\n",
       "      <td>114831</td>\n",
       "      <td>06</td>\n",
       "      <td>037</td>\n",
       "      <td>500201</td>\n",
       "    </tr>\n",
       "    <tr>\n",
       "      <th>2</th>\n",
       "      <td>Census Tract 5002.02, Los Angeles County, Cali...</td>\n",
       "      <td>1460</td>\n",
       "      <td>1293</td>\n",
       "      <td>167</td>\n",
       "      <td>133125</td>\n",
       "      <td>06</td>\n",
       "      <td>037</td>\n",
       "      <td>500202</td>\n",
       "    </tr>\n",
       "    <tr>\n",
       "      <th>3</th>\n",
       "      <td>Census Tract 5003, Los Angeles County, California</td>\n",
       "      <td>1087</td>\n",
       "      <td>991</td>\n",
       "      <td>96</td>\n",
       "      <td>102875</td>\n",
       "      <td>06</td>\n",
       "      <td>037</td>\n",
       "      <td>500300</td>\n",
       "    </tr>\n",
       "    <tr>\n",
       "      <th>4</th>\n",
       "      <td>Census Tract 5005, Los Angeles County, California</td>\n",
       "      <td>894</td>\n",
       "      <td>610</td>\n",
       "      <td>284</td>\n",
       "      <td>53500</td>\n",
       "      <td>06</td>\n",
       "      <td>037</td>\n",
       "      <td>500500</td>\n",
       "    </tr>\n",
       "  </tbody>\n",
       "</table>\n",
       "</div>"
      ],
      "text/plain": [
       "                                                NAME B25003_001E B25003_002E  \\\n",
       "0  Census Tract 4827.02, Los Angeles County, Cali...         802         579   \n",
       "1  Census Tract 5002.01, Los Angeles County, Cali...        2209        1904   \n",
       "2  Census Tract 5002.02, Los Angeles County, Cali...        1460        1293   \n",
       "3  Census Tract 5003, Los Angeles County, California        1087         991   \n",
       "4  Census Tract 5005, Los Angeles County, California         894         610   \n",
       "\n",
       "  B25003_003E B19013_001E state county   tract  \n",
       "0         223       82917    06    037  482702  \n",
       "1         305      114831    06    037  500201  \n",
       "2         167      133125    06    037  500202  \n",
       "3          96      102875    06    037  500300  \n",
       "4         284       53500    06    037  500500  "
      ]
     },
     "execution_count": 103,
     "metadata": {},
     "output_type": "execute_result"
    }
   ],
   "source": [
    "import requests\n",
    "import json\n",
    "import numpy as np\n",
    "r = requests.get('https://api.census.gov/data/2019/acs/acs5?get=NAME,B25003_001E,B25003_002E,B25003_003E,B19013_001E&for=tract:*&in=state:06&in=county:037')\n",
    "censusdata = r.json()\n",
    "censusDf = pd.DataFrame(censusdata[1:], columns=censusdata[0])\n",
    "censusDf.head()\n"
   ]
  },
  {
   "cell_type": "code",
   "execution_count": 105,
   "id": "b5b67531-4a51-4acb-83f3-51a9bfadc034",
   "metadata": {},
   "outputs": [],
   "source": [
    "censusDf.rename(columns={'B19013_001E':'median_hh_income','B25003_001E':'tenure_total','B25003_002E':'owner_occ','B25003_003E':'renter_occ'}, inplace=True)\n",
    "censusDf['tenure_total'] = censusDf['tenure_total'].astype('int64')\n",
    "censusDf['renter_occ'] = censusDf['renter_occ'].astype('int64')\n",
    "censusDf['median_hh_income'] = censusDf['median_hh_income'].astype('int64')\n",
    "censusDf['pct_renter'] = (censusDf['renter_occ']/censusDf['tenure_total'])*100\n",
    "censusDf.loc[censusDf['median_hh_income'] < 0, 'median_hh_income'] = np.nan"
   ]
  },
  {
   "cell_type": "code",
   "execution_count": 111,
   "id": "58482987",
   "metadata": {
    "deletable": false,
    "editable": false,
    "nbgrader": {
     "cell_type": "code",
     "checksum": "585870a71cdc9a29633a4e781b14e7d5",
     "grade": true,
     "grade_id": "cell-2d674b4f0e57e6dc",
     "locked": true,
     "points": 1,
     "schema_version": 3,
     "solution": false,
     "task": false
    }
   },
   "outputs": [
    {
     "name": "stdout",
     "output_type": "stream",
     "text": [
      "2346\n",
      "53.273758713248945\n",
      "73242.84415584416\n"
     ]
    }
   ],
   "source": [
    "print (len(censusDf))\n",
    "print (censusDf.pct_renter.mean())\n",
    "print(censusDf.median_hh_income.mean())\n",
    "\n",
    "# Autograding tests - do not edit\n",
    "assert len(censusDf) == 2346\n",
    "assert censusDf.pct_renter.mean().round() == 53\n",
    "assert censusDf.median_hh_income.mean().round()==73243"
   ]
  },
  {
   "cell_type": "markdown",
   "id": "e8146828",
   "metadata": {
    "deletable": false,
    "editable": false,
    "nbgrader": {
     "cell_type": "markdown",
     "checksum": "f9a4dde04d43ed5387005fbf72c319d7",
     "grade": false,
     "grade_id": "cell-10df2e93cc4cd1f2",
     "locked": true,
     "schema_version": 3,
     "solution": false,
     "task": false
    }
   },
   "source": [
    "Create a new dataframe, `joinedDf`, with both your voting and census data, through a left join to the voting data. \n",
    "\n",
    "*Hint*: It will be easiest to join on the `tract` column (which is your index in `tractVotes`). Since everything is in LA County, you don't need to worry about the `state` or `county` fields.\n",
    "\n",
    "*Hint*: You'll need to convert the `tract` column in `censusDf` to an integer first."
   ]
  },
  {
   "cell_type": "code",
   "execution_count": 113,
   "id": "cd78c1fd",
   "metadata": {
    "deletable": false,
    "nbgrader": {
     "cell_type": "code",
     "checksum": "27a7efd4dc74b0334d4880c59f003b8b",
     "grade": false,
     "grade_id": "cell-7826b19a96730b22",
     "locked": false,
     "schema_version": 3,
     "solution": true,
     "task": false
    }
   },
   "outputs": [
    {
     "data": {
      "text/html": [
       "<div>\n",
       "<style scoped>\n",
       "    .dataframe tbody tr th:only-of-type {\n",
       "        vertical-align: middle;\n",
       "    }\n",
       "\n",
       "    .dataframe tbody tr th {\n",
       "        vertical-align: top;\n",
       "    }\n",
       "\n",
       "    .dataframe thead th {\n",
       "        text-align: right;\n",
       "    }\n",
       "</style>\n",
       "<table border=\"1\" class=\"dataframe\">\n",
       "  <thead>\n",
       "    <tr style=\"text-align: right;\">\n",
       "      <th></th>\n",
       "      <th>PR_21_N</th>\n",
       "      <th>PR_21_Y</th>\n",
       "      <th>PRSDEM01</th>\n",
       "      <th>PRSREP01</th>\n",
       "      <th>NAME</th>\n",
       "      <th>tenure_total</th>\n",
       "      <th>owner_occ</th>\n",
       "      <th>renter_occ</th>\n",
       "      <th>median_hh_income</th>\n",
       "      <th>state</th>\n",
       "      <th>county</th>\n",
       "      <th>pct_renter</th>\n",
       "    </tr>\n",
       "    <tr>\n",
       "      <th>tract</th>\n",
       "      <th></th>\n",
       "      <th></th>\n",
       "      <th></th>\n",
       "      <th></th>\n",
       "      <th></th>\n",
       "      <th></th>\n",
       "      <th></th>\n",
       "      <th></th>\n",
       "      <th></th>\n",
       "      <th></th>\n",
       "      <th></th>\n",
       "      <th></th>\n",
       "    </tr>\n",
       "  </thead>\n",
       "  <tbody>\n",
       "    <tr>\n",
       "      <th>101110</th>\n",
       "      <td>1024.227956</td>\n",
       "      <td>857.734445</td>\n",
       "      <td>1090.712262</td>\n",
       "      <td>895.321045</td>\n",
       "      <td>Census Tract 1011.10, Los Angeles County, Cali...</td>\n",
       "      <td>1575.0</td>\n",
       "      <td>843</td>\n",
       "      <td>732.0</td>\n",
       "      <td>63534.0</td>\n",
       "      <td>06</td>\n",
       "      <td>037</td>\n",
       "      <td>46.476190</td>\n",
       "    </tr>\n",
       "    <tr>\n",
       "      <th>101122</th>\n",
       "      <td>1138.460030</td>\n",
       "      <td>747.218978</td>\n",
       "      <td>1057.143636</td>\n",
       "      <td>896.821118</td>\n",
       "      <td>Census Tract 1011.22, Los Angeles County, Cali...</td>\n",
       "      <td>1312.0</td>\n",
       "      <td>1072</td>\n",
       "      <td>240.0</td>\n",
       "      <td>90389.0</td>\n",
       "      <td>06</td>\n",
       "      <td>037</td>\n",
       "      <td>18.292683</td>\n",
       "    </tr>\n",
       "    <tr>\n",
       "      <th>101210</th>\n",
       "      <td>714.308221</td>\n",
       "      <td>849.445489</td>\n",
       "      <td>949.817716</td>\n",
       "      <td>723.604530</td>\n",
       "      <td>Census Tract 1012.10, Los Angeles County, Cali...</td>\n",
       "      <td>2297.0</td>\n",
       "      <td>401</td>\n",
       "      <td>1896.0</td>\n",
       "      <td>44083.0</td>\n",
       "      <td>06</td>\n",
       "      <td>037</td>\n",
       "      <td>82.542447</td>\n",
       "    </tr>\n",
       "    <tr>\n",
       "      <th>101220</th>\n",
       "      <td>761.014272</td>\n",
       "      <td>528.747773</td>\n",
       "      <td>747.489059</td>\n",
       "      <td>604.907175</td>\n",
       "      <td>Census Tract 1012.20, Los Angeles County, Cali...</td>\n",
       "      <td>1357.0</td>\n",
       "      <td>535</td>\n",
       "      <td>822.0</td>\n",
       "      <td>43713.0</td>\n",
       "      <td>06</td>\n",
       "      <td>037</td>\n",
       "      <td>60.574797</td>\n",
       "    </tr>\n",
       "    <tr>\n",
       "      <th>101300</th>\n",
       "      <td>1218.104598</td>\n",
       "      <td>796.031104</td>\n",
       "      <td>1159.946654</td>\n",
       "      <td>948.800765</td>\n",
       "      <td>Census Tract 1013, Los Angeles County, California</td>\n",
       "      <td>1445.0</td>\n",
       "      <td>1255</td>\n",
       "      <td>190.0</td>\n",
       "      <td>81776.0</td>\n",
       "      <td>06</td>\n",
       "      <td>037</td>\n",
       "      <td>13.148789</td>\n",
       "    </tr>\n",
       "  </tbody>\n",
       "</table>\n",
       "</div>"
      ],
      "text/plain": [
       "            PR_21_N     PR_21_Y     PRSDEM01    PRSREP01  \\\n",
       "tract                                                      \n",
       "101110  1024.227956  857.734445  1090.712262  895.321045   \n",
       "101122  1138.460030  747.218978  1057.143636  896.821118   \n",
       "101210   714.308221  849.445489   949.817716  723.604530   \n",
       "101220   761.014272  528.747773   747.489059  604.907175   \n",
       "101300  1218.104598  796.031104  1159.946654  948.800765   \n",
       "\n",
       "                                                     NAME  tenure_total  \\\n",
       "tract                                                                     \n",
       "101110  Census Tract 1011.10, Los Angeles County, Cali...        1575.0   \n",
       "101122  Census Tract 1011.22, Los Angeles County, Cali...        1312.0   \n",
       "101210  Census Tract 1012.10, Los Angeles County, Cali...        2297.0   \n",
       "101220  Census Tract 1012.20, Los Angeles County, Cali...        1357.0   \n",
       "101300  Census Tract 1013, Los Angeles County, California        1445.0   \n",
       "\n",
       "       owner_occ  renter_occ  median_hh_income state county  pct_renter  \n",
       "tract                                                                    \n",
       "101110       843       732.0           63534.0    06    037   46.476190  \n",
       "101122      1072       240.0           90389.0    06    037   18.292683  \n",
       "101210       401      1896.0           44083.0    06    037   82.542447  \n",
       "101220       535       822.0           43713.0    06    037   60.574797  \n",
       "101300      1255       190.0           81776.0    06    037   13.148789  "
      ]
     },
     "execution_count": 113,
     "metadata": {},
     "output_type": "execute_result"
    }
   ],
   "source": [
    "censusDf['tract'] = censusDf['tract'].astype('int64')\n",
    "censusDf.set_index('tract', inplace=True)\n",
    "joinedDf = tractVotes.join(censusDf)\n",
    "joinedDf.head()\n"
   ]
  },
  {
   "cell_type": "code",
   "execution_count": 115,
   "id": "49062cce",
   "metadata": {
    "deletable": false,
    "editable": false,
    "nbgrader": {
     "cell_type": "code",
     "checksum": "4bf516602b49234ddd1cc63807b8acf0",
     "grade": true,
     "grade_id": "cell-1cd1c76f5b8264c9",
     "locked": true,
     "points": 1,
     "schema_version": 3,
     "solution": false,
     "task": false
    }
   },
   "outputs": [
    {
     "name": "stdout",
     "output_type": "stream",
     "text": [
      "2318\n",
      "53.28817335153003\n"
     ]
    }
   ],
   "source": [
    "print(joinedDf.pct_renter.count())\n",
    "print(joinedDf.pct_renter.mean())\n",
    "\n",
    "# Autograding tests - do not edit\n",
    "assert joinedDf.pct_renter.count() == 2318\n",
    "assert joinedDf.pct_renter.mean().round() == 53"
   ]
  },
  {
   "cell_type": "markdown",
   "id": "1ccab3db",
   "metadata": {
    "deletable": false,
    "editable": false,
    "nbgrader": {
     "cell_type": "markdown",
     "checksum": "abefd65bcabb67fb3b70520ad7fb4292",
     "grade": false,
     "grade_id": "cell-0473e50f37e6f3ba",
     "locked": true,
     "schema_version": 3,
     "solution": false,
     "task": false
    }
   },
   "source": [
    "Let's start with a simple random forests model with the following *x* variables:\n",
    "\n",
    "* Median HH income\n",
    "* Percent of HHs that are renters\n",
    "* Presidential vote (2-party share of Democrat voters, i.e. the percent voting for Biden vs Trump, with other candidates ignored)\n",
    "\n",
    "And the following *y* variable\n",
    "* Whether Prop 21 won (received a majority) in that census tract. This should be `True` if the Yeses got more votes than the Nos.\n",
    "\n",
    "(Yes, vote share in each tract would be better to predict rather than a binary variable - hold off on that for the challenge problem.)\n",
    "\n",
    "Create the relevant columns, `pct_biden` and `PR_21_won`, in your `joinedDf` dataframe. \n",
    "\n",
    "Then split your dataframe into a training sample (75%) and a test sample (25%). *Hint*: Drop the `NaNs` first."
   ]
  },
  {
   "cell_type": "code",
   "execution_count": 120,
   "id": "66721623-1221-4da6-8aa1-ca8440aafcfb",
   "metadata": {},
   "outputs": [
    {
     "data": {
      "text/html": [
       "<div>\n",
       "<style scoped>\n",
       "    .dataframe tbody tr th:only-of-type {\n",
       "        vertical-align: middle;\n",
       "    }\n",
       "\n",
       "    .dataframe tbody tr th {\n",
       "        vertical-align: top;\n",
       "    }\n",
       "\n",
       "    .dataframe thead th {\n",
       "        text-align: right;\n",
       "    }\n",
       "</style>\n",
       "<table border=\"1\" class=\"dataframe\">\n",
       "  <thead>\n",
       "    <tr style=\"text-align: right;\">\n",
       "      <th></th>\n",
       "      <th>PR_21_N</th>\n",
       "      <th>PR_21_Y</th>\n",
       "      <th>PRSDEM01</th>\n",
       "      <th>PRSREP01</th>\n",
       "      <th>NAME</th>\n",
       "      <th>tenure_total</th>\n",
       "      <th>owner_occ</th>\n",
       "      <th>renter_occ</th>\n",
       "      <th>median_hh_income</th>\n",
       "      <th>state</th>\n",
       "      <th>county</th>\n",
       "      <th>pct_renter</th>\n",
       "      <th>pct_biden</th>\n",
       "      <th>PR_21_won</th>\n",
       "    </tr>\n",
       "    <tr>\n",
       "      <th>tract</th>\n",
       "      <th></th>\n",
       "      <th></th>\n",
       "      <th></th>\n",
       "      <th></th>\n",
       "      <th></th>\n",
       "      <th></th>\n",
       "      <th></th>\n",
       "      <th></th>\n",
       "      <th></th>\n",
       "      <th></th>\n",
       "      <th></th>\n",
       "      <th></th>\n",
       "      <th></th>\n",
       "      <th></th>\n",
       "    </tr>\n",
       "  </thead>\n",
       "  <tbody>\n",
       "    <tr>\n",
       "      <th>101110</th>\n",
       "      <td>1024.227956</td>\n",
       "      <td>857.734445</td>\n",
       "      <td>1090.712262</td>\n",
       "      <td>895.321045</td>\n",
       "      <td>Census Tract 1011.10, Los Angeles County, Cali...</td>\n",
       "      <td>1575.0</td>\n",
       "      <td>843</td>\n",
       "      <td>732.0</td>\n",
       "      <td>63534.0</td>\n",
       "      <td>06</td>\n",
       "      <td>037</td>\n",
       "      <td>46.476190</td>\n",
       "      <td>54.919132</td>\n",
       "      <td>False</td>\n",
       "    </tr>\n",
       "    <tr>\n",
       "      <th>101122</th>\n",
       "      <td>1138.460030</td>\n",
       "      <td>747.218978</td>\n",
       "      <td>1057.143636</td>\n",
       "      <td>896.821118</td>\n",
       "      <td>Census Tract 1011.22, Los Angeles County, Cali...</td>\n",
       "      <td>1312.0</td>\n",
       "      <td>1072</td>\n",
       "      <td>240.0</td>\n",
       "      <td>90389.0</td>\n",
       "      <td>06</td>\n",
       "      <td>037</td>\n",
       "      <td>18.292683</td>\n",
       "      <td>54.102493</td>\n",
       "      <td>False</td>\n",
       "    </tr>\n",
       "    <tr>\n",
       "      <th>101210</th>\n",
       "      <td>714.308221</td>\n",
       "      <td>849.445489</td>\n",
       "      <td>949.817716</td>\n",
       "      <td>723.604530</td>\n",
       "      <td>Census Tract 1012.10, Los Angeles County, Cali...</td>\n",
       "      <td>2297.0</td>\n",
       "      <td>401</td>\n",
       "      <td>1896.0</td>\n",
       "      <td>44083.0</td>\n",
       "      <td>06</td>\n",
       "      <td>037</td>\n",
       "      <td>82.542447</td>\n",
       "      <td>56.758999</td>\n",
       "      <td>True</td>\n",
       "    </tr>\n",
       "    <tr>\n",
       "      <th>101220</th>\n",
       "      <td>761.014272</td>\n",
       "      <td>528.747773</td>\n",
       "      <td>747.489059</td>\n",
       "      <td>604.907175</td>\n",
       "      <td>Census Tract 1012.20, Los Angeles County, Cali...</td>\n",
       "      <td>1357.0</td>\n",
       "      <td>535</td>\n",
       "      <td>822.0</td>\n",
       "      <td>43713.0</td>\n",
       "      <td>06</td>\n",
       "      <td>037</td>\n",
       "      <td>60.574797</td>\n",
       "      <td>55.271454</td>\n",
       "      <td>False</td>\n",
       "    </tr>\n",
       "    <tr>\n",
       "      <th>101300</th>\n",
       "      <td>1218.104598</td>\n",
       "      <td>796.031104</td>\n",
       "      <td>1159.946654</td>\n",
       "      <td>948.800765</td>\n",
       "      <td>Census Tract 1013, Los Angeles County, California</td>\n",
       "      <td>1445.0</td>\n",
       "      <td>1255</td>\n",
       "      <td>190.0</td>\n",
       "      <td>81776.0</td>\n",
       "      <td>06</td>\n",
       "      <td>037</td>\n",
       "      <td>13.148789</td>\n",
       "      <td>55.006429</td>\n",
       "      <td>False</td>\n",
       "    </tr>\n",
       "  </tbody>\n",
       "</table>\n",
       "</div>"
      ],
      "text/plain": [
       "            PR_21_N     PR_21_Y     PRSDEM01    PRSREP01  \\\n",
       "tract                                                      \n",
       "101110  1024.227956  857.734445  1090.712262  895.321045   \n",
       "101122  1138.460030  747.218978  1057.143636  896.821118   \n",
       "101210   714.308221  849.445489   949.817716  723.604530   \n",
       "101220   761.014272  528.747773   747.489059  604.907175   \n",
       "101300  1218.104598  796.031104  1159.946654  948.800765   \n",
       "\n",
       "                                                     NAME  tenure_total  \\\n",
       "tract                                                                     \n",
       "101110  Census Tract 1011.10, Los Angeles County, Cali...        1575.0   \n",
       "101122  Census Tract 1011.22, Los Angeles County, Cali...        1312.0   \n",
       "101210  Census Tract 1012.10, Los Angeles County, Cali...        2297.0   \n",
       "101220  Census Tract 1012.20, Los Angeles County, Cali...        1357.0   \n",
       "101300  Census Tract 1013, Los Angeles County, California        1445.0   \n",
       "\n",
       "       owner_occ  renter_occ  median_hh_income state county  pct_renter  \\\n",
       "tract                                                                     \n",
       "101110       843       732.0           63534.0    06    037   46.476190   \n",
       "101122      1072       240.0           90389.0    06    037   18.292683   \n",
       "101210       401      1896.0           44083.0    06    037   82.542447   \n",
       "101220       535       822.0           43713.0    06    037   60.574797   \n",
       "101300      1255       190.0           81776.0    06    037   13.148789   \n",
       "\n",
       "        pct_biden  PR_21_won  \n",
       "tract                         \n",
       "101110  54.919132      False  \n",
       "101122  54.102493      False  \n",
       "101210  56.758999       True  \n",
       "101220  55.271454      False  \n",
       "101300  55.006429      False  "
      ]
     },
     "execution_count": 120,
     "metadata": {},
     "output_type": "execute_result"
    }
   ],
   "source": [
    "joinedDf['pct_biden'] = (joinedDf['PRSDEM01']/(joinedDf['PRSDEM01']+joinedDf['PRSREP01']))*100\n",
    "joinedDf['PR_21_won'] = joinedDf['PR_21_Y'] > joinedDf['PR_21_N']\n",
    "joinedDf.head()"
   ]
  },
  {
   "cell_type": "code",
   "execution_count": 128,
   "id": "00189327",
   "metadata": {
    "deletable": false,
    "nbgrader": {
     "cell_type": "code",
     "checksum": "65fd2c2e8897c1b97853ab1fbbde6224",
     "grade": false,
     "grade_id": "cell-f292cd5bba490d15",
     "locked": false,
     "schema_version": 3,
     "solution": true,
     "task": false
    }
   },
   "outputs": [],
   "source": [
    "from sklearn.model_selection import train_test_split\n",
    "\n",
    "xvars = ['median_hh_income','pct_renter','pct_biden']\n",
    "yvar = 'PR_21_won'\n",
    "df_to_fit = joinedDf[xvars + [yvar]].dropna()\n",
    "X_train, X_test, y_train, y_test = train_test_split(\n",
    "    df_to_fit[xvars], df_to_fit[yvar], test_size = 0.25, random_state = 1)\n",
    "\n"
   ]
  },
  {
   "cell_type": "code",
   "execution_count": 130,
   "id": "37924f00",
   "metadata": {
    "deletable": false,
    "editable": false,
    "nbgrader": {
     "cell_type": "code",
     "checksum": "b9e3f762c36076b242a09e68f1422eb9",
     "grade": true,
     "grade_id": "cell-51a28332d08e392f",
     "locked": true,
     "points": 1,
     "schema_version": 3,
     "solution": false,
     "task": false
    }
   },
   "outputs": [
    {
     "name": "stdout",
     "output_type": "stream",
     "text": [
      "1731\n",
      "578\n",
      "73.99448083312072\n",
      "0.5979202772963604\n"
     ]
    }
   ],
   "source": [
    "print(len(X_train))\n",
    "print(len(X_test))\n",
    "print(X_train.pct_biden.mean())\n",
    "print(y_train.mean())\n",
    "\n",
    "# Autograding tests - do not edit\n",
    "assert len(X_train) == 1731\n",
    "assert len(X_train.columns) == 3\n",
    "assert len(X_test) == 578\n",
    "assert len(X_train) == len(y_train)\n",
    "assert len(X_test) == len(y_test)\n",
    "assert X_train.pct_biden.mean().round() == 74\n",
    "assert y_train.mean().round(1) == 0.6\n"
   ]
  },
  {
   "cell_type": "markdown",
   "id": "e2a095a7",
   "metadata": {
    "deletable": false,
    "editable": false,
    "nbgrader": {
     "cell_type": "markdown",
     "checksum": "47be54094151a23829637bb621579c23",
     "grade": false,
     "grade_id": "cell-da525eb9a304953d",
     "locked": true,
     "schema_version": 3,
     "solution": false,
     "task": false
    }
   },
   "source": [
    "Estimate a random forests model, and assign the predicted *y* values from your *test* sample to `y_pred`."
   ]
  },
  {
   "cell_type": "code",
   "execution_count": 134,
   "id": "98afd7b7",
   "metadata": {
    "deletable": false,
    "nbgrader": {
     "cell_type": "code",
     "checksum": "20535f599ecfe005d16d51a36decb39d",
     "grade": false,
     "grade_id": "cell-18655f54613bacb6",
     "locked": false,
     "schema_version": 3,
     "solution": true,
     "task": false
    }
   },
   "outputs": [
    {
     "name": "stdout",
     "output_type": "stream",
     "text": [
      "Predicted fraction True: 0.6332. Actual fraction True: 0.6142\n"
     ]
    }
   ],
   "source": [
    "from sklearn.ensemble import RandomForestClassifier \n",
    "\n",
    "rf = RandomForestClassifier(n_estimators = 100, random_state = 1)\n",
    "\n",
    "rf.fit(X_train, y_train)\n",
    "y_pred = rf.predict(X_test)\n",
    "\n",
    "print('Predicted fraction True: {:.4f}. Actual fraction True: {:.4f}'.format(\n",
    "    y_pred.mean(), y_test.mean()))\n"
   ]
  },
  {
   "cell_type": "code",
   "execution_count": 136,
   "id": "1ba581a2",
   "metadata": {
    "deletable": false,
    "editable": false,
    "nbgrader": {
     "cell_type": "code",
     "checksum": "d3c939c242a2e2c97ac1d6beed36510e",
     "grade": true,
     "grade_id": "cell-633c221bbc5dda5e",
     "locked": true,
     "points": 1,
     "schema_version": 3,
     "solution": false,
     "task": false
    }
   },
   "outputs": [
    {
     "name": "stdout",
     "output_type": "stream",
     "text": [
      "578\n",
      "0.6332179930795848\n"
     ]
    }
   ],
   "source": [
    "print(len(y_pred))\n",
    "print(y_pred.mean())\n",
    "\n",
    "# Autograding tests - do not edit\n",
    "assert len(y_pred)==len(y_test)\n",
    "assert y_pred.mean().round(1) == 0.6"
   ]
  },
  {
   "cell_type": "markdown",
   "id": "0b4319c7",
   "metadata": {
    "deletable": false,
    "editable": false,
    "nbgrader": {
     "cell_type": "markdown",
     "checksum": "106147275ab4f5520232b7cb2f96afa5",
     "grade": false,
     "grade_id": "cell-907f10cfdc92c141",
     "locked": true,
     "schema_version": 3,
     "solution": false,
     "task": false
    }
   },
   "source": [
    "Let's look at some measures of fit. Plot the confusion matrix."
   ]
  },
  {
   "cell_type": "code",
   "execution_count": 140,
   "id": "da2c942a",
   "metadata": {
    "deletable": false,
    "nbgrader": {
     "cell_type": "code",
     "checksum": "a217f1332e891585b32e8647876c8e04",
     "grade": true,
     "grade_id": "cell-c73405d47229d9c2",
     "locked": false,
     "points": 1,
     "schema_version": 3,
     "solution": true,
     "task": false
    }
   },
   "outputs": [
    {
     "data": {
      "text/plain": [
       "<sklearn.metrics._plot.confusion_matrix.ConfusionMatrixDisplay at 0x17695cb90>"
      ]
     },
     "execution_count": 140,
     "metadata": {},
     "output_type": "execute_result"
    },
    {
     "data": {
      "image/png": "[encoded data removed]",
      "text/plain": [
       "<Figure size 640x480 with 2 Axes>"
      ]
     },
     "metadata": {},
     "output_type": "display_data"
    }
   ],
   "source": [
    "from sklearn.metrics import classification_report, confusion_matrix, accuracy_score, ConfusionMatrixDisplay\n",
    "ConfusionMatrixDisplay.from_predictions(y_test, y_pred)\n"
   ]
  },
  {
   "cell_type": "markdown",
   "id": "a5b1fb72",
   "metadata": {
    "deletable": false,
    "editable": false,
    "nbgrader": {
     "cell_type": "markdown",
     "checksum": "15f7f3d9f89db03a090c94c5d9b8e8c2",
     "grade": false,
     "grade_id": "cell-f4a7868979483ed5",
     "locked": true,
     "schema_version": 3,
     "solution": false,
     "task": false
    }
   },
   "source": [
    "Finally, plot the importance of each of the 3 predictor variables, in the same way as we did in class."
   ]
  },
  {
   "cell_type": "code",
   "execution_count": 147,
   "id": "da8efe8f",
   "metadata": {
    "deletable": false,
    "nbgrader": {
     "cell_type": "code",
     "checksum": "81d38608175af20135e30ea93a693703",
     "grade": true,
     "grade_id": "cell-6db4a17c87ddf643",
     "locked": false,
     "points": 1,
     "schema_version": 3,
     "solution": true,
     "task": false
    }
   },
   "outputs": [
    {
     "data": {
      "text/plain": [
       "Text(0, 0.5, 'Mean decrease in impurity')"
      ]
     },
     "execution_count": 147,
     "metadata": {},
     "output_type": "execute_result"
    },
    {
     "data": {
      "image/png": "[encoded data removed]",
      "text/plain": [
       "<Figure size 300x300 with 1 Axes>"
      ]
     },
     "metadata": {},
     "output_type": "display_data"
    }
   ],
   "source": [
    "import seaborn as sns\n",
    "import matplotlib.pyplot as plt\n",
    "importances = rf.feature_importances_\n",
    "\n",
    "forest_importances = pd.Series(importances, index=X_train.columns)\n",
    "\n",
    "forest_importances.sort_values(inplace=True, ascending=False)\n",
    "\n",
    "fig, ax = plt.subplots(figsize=(3,3))\n",
    "sns.barplot(x=forest_importances.values[:3], y=forest_importances.index[:3], ax=ax)\n",
    "ax.set_title(\"Feature importances using MDI\")\n",
    "ax.set_ylabel(\"Mean decrease in impurity\")\n",
    "\n"
   ]
  },
  {
   "cell_type": "markdown",
   "id": "e7b82113",
   "metadata": {
    "deletable": false,
    "editable": false,
    "nbgrader": {
     "cell_type": "markdown",
     "checksum": "f372fa06efc2d9978b8beca6859f3250",
     "grade": false,
     "grade_id": "cell-0a6b521f6268911b",
     "locked": true,
     "schema_version": 3,
     "solution": false,
     "task": false
    }
   },
   "source": [
    "Comment on your interpretation of the results and the confusion matrix. What do they tell you about:\n",
    "- your predictive accuracy\n",
    "- which variables are important\n",
    "- how you might refine the model"
   ]
  },
  {
   "cell_type": "markdown",
   "id": "17b6b202",
   "metadata": {
    "deletable": false,
    "nbgrader": {
     "cell_type": "markdown",
     "checksum": "927dfce73cceaf93bb709dbc7a116b10",
     "grade": true,
     "grade_id": "cell-e2b3e80aad8c47a2",
     "locked": false,
     "points": 3,
     "schema_version": 3,
     "solution": true,
     "task": false
    }
   },
   "source": [
    "The model’s predictive accuracy is quite strong, with 90.8% of precincts correctly classified in their support for Prop 21. The confusion matrix shows an overall balanced performance, with relatively few false positives and false negatives, indicating that the model is not heavily skewed toward one outcome.\n",
    "\n",
    "Among the variables used, the percent that voted for Biden, percent renter, and median household income ranked as most important, in that order. While the feature importances don't indicate the direction of correlation, it’s interesting that political preference had more predictive power than renter status. This suggests that partisan alignment was more correlatedfor Prop 21 voting outcomes than direct housing tenure, which I did not expect given that Prop 21 would have direct material benefits for most (if not all) tenants.\n",
    "\n",
    "To improve the model, we could incorporate more variables, experiment with alternative models like logistic regression or neural networks, or explore spatial clustering to identify geographic patterns in support for rent control."
   ]
  },
  {
   "cell_type": "markdown",
   "id": "a61901bb",
   "metadata": {
    "deletable": false,
    "editable": false,
    "nbgrader": {
     "cell_type": "markdown",
     "checksum": "8c176d496ec3c329b1950b0336133986",
     "grade": false,
     "grade_id": "cell-ffd460ba8c5df1e3",
     "locked": true,
     "schema_version": 3,
     "solution": false,
     "task": false
    }
   },
   "source": [
    "# Challenge Problem\n",
    "Remember, you need to do at least two of these challenge problems this quarter.\n",
    "\n",
    "This challenge problem is open ended for you to take in a direction that you are most interested in. Here are some suggestions (do 1 or 2 of these):\n",
    "\n",
    "* Extend the random forests model to predict vote share on Prop 21, rather than a binary yes/no, and using additional variables. See suggestions below. \n",
    "* Use a neural network instead. How much does this improve the predictions? Use charts to compare the predictions to the random forests model.\n",
    "* Examine the geographic distribution of the predictions, through mapping the prediction errors. Where does your model perform best? Does this give you pointers as to how to improve your model?\n",
    "\n",
    "In all cases, write some brief interpretation in a markdown cell.\n",
    "\n",
    "*Predicting a continuous variable*\n",
    "\n",
    "Classification problems are typically binary or categorical - which category do you predict a given observation to fall into. In some cases, however, we might want to predict a continuous variable, such as the percentage of \"yes\" votes on Prop 21. For this we can use `RandomForestRegressor`, which works very similarly to `RandomForestClassifier`. You can follow exactly the same steps: create the `rf` object, fit the model, and predict using the test sample.\n",
    "\n",
    "How do you evaluate model performance? Since we have a continuous variable, we can't use the confusion matrix. But we can look at the absolute error (each predicted value minus the true value for each of our test precincts). I.e., `abs(y_pred-y_test)`. You can also do a scatter plot of the predicted values against the true values. The divergence from the 45 degree line is a good indication of how well the model fits."
   ]
  },
  {
   "cell_type": "code",
   "execution_count": 154,
   "id": "215c86a7-1337-4057-9fd6-926ceddd9dd2",
   "metadata": {},
   "outputs": [
    {
     "data": {
      "text/html": [
       "<div>\n",
       "<style scoped>\n",
       "    .dataframe tbody tr th:only-of-type {\n",
       "        vertical-align: middle;\n",
       "    }\n",
       "\n",
       "    .dataframe tbody tr th {\n",
       "        vertical-align: top;\n",
       "    }\n",
       "\n",
       "    .dataframe thead th {\n",
       "        text-align: right;\n",
       "    }\n",
       "</style>\n",
       "<table border=\"1\" class=\"dataframe\">\n",
       "  <thead>\n",
       "    <tr style=\"text-align: right;\">\n",
       "      <th></th>\n",
       "      <th>PR_21_N</th>\n",
       "      <th>PR_21_Y</th>\n",
       "      <th>PRSDEM01</th>\n",
       "      <th>PRSREP01</th>\n",
       "      <th>NAME</th>\n",
       "      <th>tenure_total</th>\n",
       "      <th>owner_occ</th>\n",
       "      <th>renter_occ</th>\n",
       "      <th>median_hh_income</th>\n",
       "      <th>state</th>\n",
       "      <th>county</th>\n",
       "      <th>pct_renter</th>\n",
       "      <th>pct_biden</th>\n",
       "      <th>PR_21_won</th>\n",
       "      <th>pct_Prop_21_Y</th>\n",
       "    </tr>\n",
       "    <tr>\n",
       "      <th>tract</th>\n",
       "      <th></th>\n",
       "      <th></th>\n",
       "      <th></th>\n",
       "      <th></th>\n",
       "      <th></th>\n",
       "      <th></th>\n",
       "      <th></th>\n",
       "      <th></th>\n",
       "      <th></th>\n",
       "      <th></th>\n",
       "      <th></th>\n",
       "      <th></th>\n",
       "      <th></th>\n",
       "      <th></th>\n",
       "      <th></th>\n",
       "    </tr>\n",
       "  </thead>\n",
       "  <tbody>\n",
       "    <tr>\n",
       "      <th>101110</th>\n",
       "      <td>1024.227956</td>\n",
       "      <td>857.734445</td>\n",
       "      <td>1090.712262</td>\n",
       "      <td>895.321045</td>\n",
       "      <td>Census Tract 1011.10, Los Angeles County, Cali...</td>\n",
       "      <td>1575.0</td>\n",
       "      <td>843</td>\n",
       "      <td>732.0</td>\n",
       "      <td>63534.0</td>\n",
       "      <td>06</td>\n",
       "      <td>037</td>\n",
       "      <td>46.476190</td>\n",
       "      <td>54.919132</td>\n",
       "      <td>False</td>\n",
       "      <td>45.576598</td>\n",
       "    </tr>\n",
       "    <tr>\n",
       "      <th>101122</th>\n",
       "      <td>1138.460030</td>\n",
       "      <td>747.218978</td>\n",
       "      <td>1057.143636</td>\n",
       "      <td>896.821118</td>\n",
       "      <td>Census Tract 1011.22, Los Angeles County, Cali...</td>\n",
       "      <td>1312.0</td>\n",
       "      <td>1072</td>\n",
       "      <td>240.0</td>\n",
       "      <td>90389.0</td>\n",
       "      <td>06</td>\n",
       "      <td>037</td>\n",
       "      <td>18.292683</td>\n",
       "      <td>54.102493</td>\n",
       "      <td>False</td>\n",
       "      <td>39.625990</td>\n",
       "    </tr>\n",
       "    <tr>\n",
       "      <th>101210</th>\n",
       "      <td>714.308221</td>\n",
       "      <td>849.445489</td>\n",
       "      <td>949.817716</td>\n",
       "      <td>723.604530</td>\n",
       "      <td>Census Tract 1012.10, Los Angeles County, Cali...</td>\n",
       "      <td>2297.0</td>\n",
       "      <td>401</td>\n",
       "      <td>1896.0</td>\n",
       "      <td>44083.0</td>\n",
       "      <td>06</td>\n",
       "      <td>037</td>\n",
       "      <td>82.542447</td>\n",
       "      <td>56.758999</td>\n",
       "      <td>True</td>\n",
       "      <td>54.320926</td>\n",
       "    </tr>\n",
       "    <tr>\n",
       "      <th>101220</th>\n",
       "      <td>761.014272</td>\n",
       "      <td>528.747773</td>\n",
       "      <td>747.489059</td>\n",
       "      <td>604.907175</td>\n",
       "      <td>Census Tract 1012.20, Los Angeles County, Cali...</td>\n",
       "      <td>1357.0</td>\n",
       "      <td>535</td>\n",
       "      <td>822.0</td>\n",
       "      <td>43713.0</td>\n",
       "      <td>06</td>\n",
       "      <td>037</td>\n",
       "      <td>60.574797</td>\n",
       "      <td>55.271454</td>\n",
       "      <td>False</td>\n",
       "      <td>40.995762</td>\n",
       "    </tr>\n",
       "    <tr>\n",
       "      <th>101300</th>\n",
       "      <td>1218.104598</td>\n",
       "      <td>796.031104</td>\n",
       "      <td>1159.946654</td>\n",
       "      <td>948.800765</td>\n",
       "      <td>Census Tract 1013, Los Angeles County, California</td>\n",
       "      <td>1445.0</td>\n",
       "      <td>1255</td>\n",
       "      <td>190.0</td>\n",
       "      <td>81776.0</td>\n",
       "      <td>06</td>\n",
       "      <td>037</td>\n",
       "      <td>13.148789</td>\n",
       "      <td>55.006429</td>\n",
       "      <td>False</td>\n",
       "      <td>39.522218</td>\n",
       "    </tr>\n",
       "  </tbody>\n",
       "</table>\n",
       "</div>"
      ],
      "text/plain": [
       "            PR_21_N     PR_21_Y     PRSDEM01    PRSREP01  \\\n",
       "tract                                                      \n",
       "101110  1024.227956  857.734445  1090.712262  895.321045   \n",
       "101122  1138.460030  747.218978  1057.143636  896.821118   \n",
       "101210   714.308221  849.445489   949.817716  723.604530   \n",
       "101220   761.014272  528.747773   747.489059  604.907175   \n",
       "101300  1218.104598  796.031104  1159.946654  948.800765   \n",
       "\n",
       "                                                     NAME  tenure_total  \\\n",
       "tract                                                                     \n",
       "101110  Census Tract 1011.10, Los Angeles County, Cali...        1575.0   \n",
       "101122  Census Tract 1011.22, Los Angeles County, Cali...        1312.0   \n",
       "101210  Census Tract 1012.10, Los Angeles County, Cali...        2297.0   \n",
       "101220  Census Tract 1012.20, Los Angeles County, Cali...        1357.0   \n",
       "101300  Census Tract 1013, Los Angeles County, California        1445.0   \n",
       "\n",
       "       owner_occ  renter_occ  median_hh_income state county  pct_renter  \\\n",
       "tract                                                                     \n",
       "101110       843       732.0           63534.0    06    037   46.476190   \n",
       "101122      1072       240.0           90389.0    06    037   18.292683   \n",
       "101210       401      1896.0           44083.0    06    037   82.542447   \n",
       "101220       535       822.0           43713.0    06    037   60.574797   \n",
       "101300      1255       190.0           81776.0    06    037   13.148789   \n",
       "\n",
       "        pct_biden  PR_21_won  pct_Prop_21_Y  \n",
       "tract                                        \n",
       "101110  54.919132      False      45.576598  \n",
       "101122  54.102493      False      39.625990  \n",
       "101210  56.758999       True      54.320926  \n",
       "101220  55.271454      False      40.995762  \n",
       "101300  55.006429      False      39.522218  "
      ]
     },
     "execution_count": 154,
     "metadata": {},
     "output_type": "execute_result"
    }
   ],
   "source": [
    "# Create a new column in our dataframe that captures vote share, the percentage of people who voted Y on Prop 21 \n",
    "joinedDf['pct_Prop_21_Y'] = (joinedDf['PR_21_Y']/(joinedDf['PR_21_Y']+joinedDf['PR_21_N']))*100\n",
    "joinedDf.head()\n"
   ]
  },
  {
   "cell_type": "code",
   "execution_count": 261,
   "id": "4eedf576-2e47-494a-85c4-5752e53b86e8",
   "metadata": {},
   "outputs": [],
   "source": [
    "# add variables to the dataframe\n",
    "r = requests.get('https://api.census.gov/data/2019/acs/acs5?get=NAME,B02001_002E,B02001_003E,B02001_005E,B01001_002E,B01001_026E,B25003_002E&for=tract:*&in=state:06&in=county:037')\n",
    "censusdata = r.json()\n",
    "censusDf1 = pd.DataFrame(censusdata[1:], columns=censusdata[0])\n"
   ]
  },
  {
   "cell_type": "code",
   "execution_count": 281,
   "id": "3f86f272-68eb-412f-abd5-23b821379c9b",
   "metadata": {},
   "outputs": [
    {
     "data": {
      "text/html": [
       "<div>\n",
       "<style scoped>\n",
       "    .dataframe tbody tr th:only-of-type {\n",
       "        vertical-align: middle;\n",
       "    }\n",
       "\n",
       "    .dataframe tbody tr th {\n",
       "        vertical-align: top;\n",
       "    }\n",
       "\n",
       "    .dataframe thead th {\n",
       "        text-align: right;\n",
       "    }\n",
       "</style>\n",
       "<table border=\"1\" class=\"dataframe\">\n",
       "  <thead>\n",
       "    <tr style=\"text-align: right;\">\n",
       "      <th></th>\n",
       "      <th>NAME</th>\n",
       "      <th>white</th>\n",
       "      <th>black</th>\n",
       "      <th>asian</th>\n",
       "      <th>male</th>\n",
       "      <th>female</th>\n",
       "      <th>owner</th>\n",
       "      <th>state</th>\n",
       "      <th>county</th>\n",
       "    </tr>\n",
       "    <tr>\n",
       "      <th>tract</th>\n",
       "      <th></th>\n",
       "      <th></th>\n",
       "      <th></th>\n",
       "      <th></th>\n",
       "      <th></th>\n",
       "      <th></th>\n",
       "      <th></th>\n",
       "      <th></th>\n",
       "      <th></th>\n",
       "    </tr>\n",
       "  </thead>\n",
       "  <tbody>\n",
       "    <tr>\n",
       "      <th>482702</th>\n",
       "      <td>Census Tract 4827.02, Los Angeles County, Cali...</td>\n",
       "      <td>689</td>\n",
       "      <td>27</td>\n",
       "      <td>1106</td>\n",
       "      <td>1009</td>\n",
       "      <td>1364</td>\n",
       "      <td>579</td>\n",
       "      <td>06</td>\n",
       "      <td>037</td>\n",
       "    </tr>\n",
       "    <tr>\n",
       "      <th>500201</th>\n",
       "      <td>Census Tract 5002.01, Los Angeles County, Cali...</td>\n",
       "      <td>5592</td>\n",
       "      <td>29</td>\n",
       "      <td>549</td>\n",
       "      <td>3884</td>\n",
       "      <td>3383</td>\n",
       "      <td>1904</td>\n",
       "      <td>06</td>\n",
       "      <td>037</td>\n",
       "    </tr>\n",
       "    <tr>\n",
       "      <th>500202</th>\n",
       "      <td>Census Tract 5002.02, Los Angeles County, Cali...</td>\n",
       "      <td>2961</td>\n",
       "      <td>33</td>\n",
       "      <td>1039</td>\n",
       "      <td>2406</td>\n",
       "      <td>2582</td>\n",
       "      <td>1293</td>\n",
       "      <td>06</td>\n",
       "      <td>037</td>\n",
       "    </tr>\n",
       "    <tr>\n",
       "      <th>500300</th>\n",
       "      <td>Census Tract 5003, Los Angeles County, California</td>\n",
       "      <td>1906</td>\n",
       "      <td>26</td>\n",
       "      <td>481</td>\n",
       "      <td>1409</td>\n",
       "      <td>1564</td>\n",
       "      <td>991</td>\n",
       "      <td>06</td>\n",
       "      <td>037</td>\n",
       "    </tr>\n",
       "    <tr>\n",
       "      <th>500500</th>\n",
       "      <td>Census Tract 5005, Los Angeles County, California</td>\n",
       "      <td>1435</td>\n",
       "      <td>23</td>\n",
       "      <td>226</td>\n",
       "      <td>1309</td>\n",
       "      <td>1394</td>\n",
       "      <td>610</td>\n",
       "      <td>06</td>\n",
       "      <td>037</td>\n",
       "    </tr>\n",
       "  </tbody>\n",
       "</table>\n",
       "</div>"
      ],
      "text/plain": [
       "                                                     NAME  white  black  \\\n",
       "tract                                                                     \n",
       "482702  Census Tract 4827.02, Los Angeles County, Cali...    689     27   \n",
       "500201  Census Tract 5002.01, Los Angeles County, Cali...   5592     29   \n",
       "500202  Census Tract 5002.02, Los Angeles County, Cali...   2961     33   \n",
       "500300  Census Tract 5003, Los Angeles County, California   1906     26   \n",
       "500500  Census Tract 5005, Los Angeles County, California   1435     23   \n",
       "\n",
       "        asian  male  female  owner state county  \n",
       "tract                                            \n",
       "482702   1106  1009    1364    579    06    037  \n",
       "500201    549  3884    3383   1904    06    037  \n",
       "500202   1039  2406    2582   1293    06    037  \n",
       "500300    481  1409    1564    991    06    037  \n",
       "500500    226  1309    1394    610    06    037  "
      ]
     },
     "execution_count": 281,
     "metadata": {},
     "output_type": "execute_result"
    }
   ],
   "source": [
    "censusDf1.rename(columns={'B02001_002E':'white','B02001_003E':'black','B02001_005E':'asian','B01001_002E':'male','B01001_026E':'female','B25003_002E':'owner'}, inplace=True)\n",
    "censusDf1['white'] = censusDf1['white'].astype('int64')\n",
    "censusDf1['black'] = censusDf1['black'].astype('int64')\n",
    "censusDf1['asian'] = censusDf1['asian'].astype('int64')\n",
    "censusDf1['male'] = censusDf1['male'].astype('int64')\n",
    "censusDf1['female'] = censusDf1['female'].astype('int64')\n",
    "censusDf1['owner'] = censusDf1['owner'].astype('int64')\n",
    "censusDf1.head()"
   ]
  },
  {
   "cell_type": "code",
   "execution_count": 317,
   "id": "07183aff-a554-4df1-9e46-5ce7ba5053b4",
   "metadata": {},
   "outputs": [],
   "source": [
    "# Setting tract as index for my new variables, I commented them out to stop getting errors when I reran the cell\n",
    "\n",
    "# censusDf1['tract'] = censusDf1['tract'].astype('int64')\n",
    "# censusDf1.set_index('tract', inplace=True)"
   ]
  },
  {
   "cell_type": "code",
   "execution_count": 319,
   "id": "80e89c4f-b44c-4c08-9e17-17022b25caae",
   "metadata": {},
   "outputs": [],
   "source": [
    "# Dropping identical columns before the merge. Commented out to stop errors\n",
    "\n",
    "# censusDf1 = censusDf1.drop(columns=['state','county','NAME'])\n",
    "# joinedDf = joinedDf.join(censusDf1)"
   ]
  },
  {
   "cell_type": "code",
   "execution_count": 301,
   "id": "4986f078-e156-4d71-9ea4-25435431d88f",
   "metadata": {},
   "outputs": [
    {
     "data": {
      "text/html": [
       "<div>\n",
       "<style scoped>\n",
       "    .dataframe tbody tr th:only-of-type {\n",
       "        vertical-align: middle;\n",
       "    }\n",
       "\n",
       "    .dataframe tbody tr th {\n",
       "        vertical-align: top;\n",
       "    }\n",
       "\n",
       "    .dataframe thead th {\n",
       "        text-align: right;\n",
       "    }\n",
       "</style>\n",
       "<table border=\"1\" class=\"dataframe\">\n",
       "  <thead>\n",
       "    <tr style=\"text-align: right;\">\n",
       "      <th></th>\n",
       "      <th>PR_21_N</th>\n",
       "      <th>PR_21_Y</th>\n",
       "      <th>PRSDEM01</th>\n",
       "      <th>PRSREP01</th>\n",
       "      <th>NAME</th>\n",
       "      <th>tenure_total</th>\n",
       "      <th>owner_occ</th>\n",
       "      <th>renter_occ</th>\n",
       "      <th>median_hh_income</th>\n",
       "      <th>state</th>\n",
       "      <th>...</th>\n",
       "      <th>pct_biden</th>\n",
       "      <th>PR_21_won</th>\n",
       "      <th>pct_Prop_21_Y</th>\n",
       "      <th>white</th>\n",
       "      <th>black</th>\n",
       "      <th>asian</th>\n",
       "      <th>male</th>\n",
       "      <th>female</th>\n",
       "      <th>owner</th>\n",
       "      <th>pct_owner</th>\n",
       "    </tr>\n",
       "    <tr>\n",
       "      <th>tract</th>\n",
       "      <th></th>\n",
       "      <th></th>\n",
       "      <th></th>\n",
       "      <th></th>\n",
       "      <th></th>\n",
       "      <th></th>\n",
       "      <th></th>\n",
       "      <th></th>\n",
       "      <th></th>\n",
       "      <th></th>\n",
       "      <th></th>\n",
       "      <th></th>\n",
       "      <th></th>\n",
       "      <th></th>\n",
       "      <th></th>\n",
       "      <th></th>\n",
       "      <th></th>\n",
       "      <th></th>\n",
       "      <th></th>\n",
       "      <th></th>\n",
       "      <th></th>\n",
       "    </tr>\n",
       "  </thead>\n",
       "  <tbody>\n",
       "    <tr>\n",
       "      <th>101110</th>\n",
       "      <td>1024.227956</td>\n",
       "      <td>857.734445</td>\n",
       "      <td>1090.712262</td>\n",
       "      <td>895.321045</td>\n",
       "      <td>Census Tract 1011.10, Los Angeles County, Cali...</td>\n",
       "      <td>1575.0</td>\n",
       "      <td>843</td>\n",
       "      <td>732.0</td>\n",
       "      <td>63534.0</td>\n",
       "      <td>06</td>\n",
       "      <td>...</td>\n",
       "      <td>54.919132</td>\n",
       "      <td>False</td>\n",
       "      <td>45.576598</td>\n",
       "      <td>3347.0</td>\n",
       "      <td>19.0</td>\n",
       "      <td>331.0</td>\n",
       "      <td>2040.0</td>\n",
       "      <td>2243.0</td>\n",
       "      <td>843.0</td>\n",
       "      <td>53.523810</td>\n",
       "    </tr>\n",
       "    <tr>\n",
       "      <th>101122</th>\n",
       "      <td>1138.460030</td>\n",
       "      <td>747.218978</td>\n",
       "      <td>1057.143636</td>\n",
       "      <td>896.821118</td>\n",
       "      <td>Census Tract 1011.22, Los Angeles County, Cali...</td>\n",
       "      <td>1312.0</td>\n",
       "      <td>1072</td>\n",
       "      <td>240.0</td>\n",
       "      <td>90389.0</td>\n",
       "      <td>06</td>\n",
       "      <td>...</td>\n",
       "      <td>54.102493</td>\n",
       "      <td>False</td>\n",
       "      <td>39.625990</td>\n",
       "      <td>2981.0</td>\n",
       "      <td>74.0</td>\n",
       "      <td>220.0</td>\n",
       "      <td>1626.0</td>\n",
       "      <td>1779.0</td>\n",
       "      <td>1072.0</td>\n",
       "      <td>81.707317</td>\n",
       "    </tr>\n",
       "    <tr>\n",
       "      <th>101210</th>\n",
       "      <td>714.308221</td>\n",
       "      <td>849.445489</td>\n",
       "      <td>949.817716</td>\n",
       "      <td>723.604530</td>\n",
       "      <td>Census Tract 1012.10, Los Angeles County, Cali...</td>\n",
       "      <td>2297.0</td>\n",
       "      <td>401</td>\n",
       "      <td>1896.0</td>\n",
       "      <td>44083.0</td>\n",
       "      <td>06</td>\n",
       "      <td>...</td>\n",
       "      <td>56.758999</td>\n",
       "      <td>True</td>\n",
       "      <td>54.320926</td>\n",
       "      <td>4647.0</td>\n",
       "      <td>198.0</td>\n",
       "      <td>486.0</td>\n",
       "      <td>3350.0</td>\n",
       "      <td>2997.0</td>\n",
       "      <td>401.0</td>\n",
       "      <td>17.457553</td>\n",
       "    </tr>\n",
       "    <tr>\n",
       "      <th>101220</th>\n",
       "      <td>761.014272</td>\n",
       "      <td>528.747773</td>\n",
       "      <td>747.489059</td>\n",
       "      <td>604.907175</td>\n",
       "      <td>Census Tract 1012.20, Los Angeles County, Cali...</td>\n",
       "      <td>1357.0</td>\n",
       "      <td>535</td>\n",
       "      <td>822.0</td>\n",
       "      <td>43713.0</td>\n",
       "      <td>06</td>\n",
       "      <td>...</td>\n",
       "      <td>55.271454</td>\n",
       "      <td>False</td>\n",
       "      <td>40.995762</td>\n",
       "      <td>2634.0</td>\n",
       "      <td>87.0</td>\n",
       "      <td>341.0</td>\n",
       "      <td>1717.0</td>\n",
       "      <td>1985.0</td>\n",
       "      <td>535.0</td>\n",
       "      <td>39.425203</td>\n",
       "    </tr>\n",
       "    <tr>\n",
       "      <th>101300</th>\n",
       "      <td>1218.104598</td>\n",
       "      <td>796.031104</td>\n",
       "      <td>1159.946654</td>\n",
       "      <td>948.800765</td>\n",
       "      <td>Census Tract 1013, Los Angeles County, California</td>\n",
       "      <td>1445.0</td>\n",
       "      <td>1255</td>\n",
       "      <td>190.0</td>\n",
       "      <td>81776.0</td>\n",
       "      <td>06</td>\n",
       "      <td>...</td>\n",
       "      <td>55.006429</td>\n",
       "      <td>False</td>\n",
       "      <td>39.522218</td>\n",
       "      <td>3350.0</td>\n",
       "      <td>205.0</td>\n",
       "      <td>194.0</td>\n",
       "      <td>1897.0</td>\n",
       "      <td>1987.0</td>\n",
       "      <td>1255.0</td>\n",
       "      <td>86.851211</td>\n",
       "    </tr>\n",
       "  </tbody>\n",
       "</table>\n",
       "<p>5 rows × 22 columns</p>\n",
       "</div>"
      ],
      "text/plain": [
       "            PR_21_N     PR_21_Y     PRSDEM01    PRSREP01  \\\n",
       "tract                                                      \n",
       "101110  1024.227956  857.734445  1090.712262  895.321045   \n",
       "101122  1138.460030  747.218978  1057.143636  896.821118   \n",
       "101210   714.308221  849.445489   949.817716  723.604530   \n",
       "101220   761.014272  528.747773   747.489059  604.907175   \n",
       "101300  1218.104598  796.031104  1159.946654  948.800765   \n",
       "\n",
       "                                                     NAME  tenure_total  \\\n",
       "tract                                                                     \n",
       "101110  Census Tract 1011.10, Los Angeles County, Cali...        1575.0   \n",
       "101122  Census Tract 1011.22, Los Angeles County, Cali...        1312.0   \n",
       "101210  Census Tract 1012.10, Los Angeles County, Cali...        2297.0   \n",
       "101220  Census Tract 1012.20, Los Angeles County, Cali...        1357.0   \n",
       "101300  Census Tract 1013, Los Angeles County, California        1445.0   \n",
       "\n",
       "       owner_occ  renter_occ  median_hh_income state  ...  pct_biden  \\\n",
       "tract                                                 ...              \n",
       "101110       843       732.0           63534.0    06  ...  54.919132   \n",
       "101122      1072       240.0           90389.0    06  ...  54.102493   \n",
       "101210       401      1896.0           44083.0    06  ...  56.758999   \n",
       "101220       535       822.0           43713.0    06  ...  55.271454   \n",
       "101300      1255       190.0           81776.0    06  ...  55.006429   \n",
       "\n",
       "        PR_21_won  pct_Prop_21_Y   white  black  asian    male  female  \\\n",
       "tract                                                                    \n",
       "101110      False      45.576598  3347.0   19.0  331.0  2040.0  2243.0   \n",
       "101122      False      39.625990  2981.0   74.0  220.0  1626.0  1779.0   \n",
       "101210       True      54.320926  4647.0  198.0  486.0  3350.0  2997.0   \n",
       "101220      False      40.995762  2634.0   87.0  341.0  1717.0  1985.0   \n",
       "101300      False      39.522218  3350.0  205.0  194.0  1897.0  1987.0   \n",
       "\n",
       "         owner  pct_owner  \n",
       "tract                      \n",
       "101110   843.0  53.523810  \n",
       "101122  1072.0  81.707317  \n",
       "101210   401.0  17.457553  \n",
       "101220   535.0  39.425203  \n",
       "101300  1255.0  86.851211  \n",
       "\n",
       "[5 rows x 22 columns]"
      ]
     },
     "execution_count": 301,
     "metadata": {},
     "output_type": "execute_result"
    }
   ],
   "source": [
    "#Created a new column for pct_owner\n",
    "\n",
    "joinedDf['pct_owner'] = (joinedDf['owner']/joinedDf['tenure_total'])*100\n",
    "joinedDf.head()"
   ]
  },
  {
   "cell_type": "code",
   "execution_count": 303,
   "id": "27af1b78-aa03-46f4-b2c3-bd0c0a7a5818",
   "metadata": {},
   "outputs": [
    {
     "name": "stdout",
     "output_type": "stream",
     "text": [
      "Mean Absolute Error (MAE): 2.989995200448016\n"
     ]
    }
   ],
   "source": [
    "# Extending the random forest model to predict vote share on Prop 21 with added x variables\n",
    "\n",
    "xvars = ['median_hh_income','pct_renter','pct_biden','white','black','asian','male','female','pct_owner']\n",
    "yvar = 'pct_Prop_21_Y'\n",
    "df_to_fit = joinedDf[xvars + [yvar]].dropna()\n",
    "X_train, X_test, y_train, y_test = train_test_split(\n",
    "    df_to_fit[xvars], df_to_fit[yvar], test_size = 0.25, random_state = 1)\n",
    "\n",
    "from sklearn.ensemble import RandomForestRegressor\n",
    "from sklearn import metrics\n",
    "\n",
    "rf = RandomForestRegressor(n_estimators = 100, random_state = 1)\n",
    "\n",
    "rf.fit(X_train, y_train)\n",
    "y_pred = rf.predict(X_test)\n",
    "\n",
    "print('Mean Absolute Error (MAE):', metrics.mean_absolute_error(y_test, y_pred))"
   ]
  },
  {
   "cell_type": "code",
   "execution_count": 305,
   "id": "f2b16239-a341-437d-9b4d-d85311d10112",
   "metadata": {},
   "outputs": [
    {
     "data": {
      "text/plain": [
       "<Axes: xlabel='y_pred', ylabel='y_test'>"
      ]
     },
     "execution_count": 305,
     "metadata": {},
     "output_type": "execute_result"
    },
    {
     "data": {
      "image/png": "[encoded data removed]",
      "text/plain": [
       "<Figure size 640x480 with 1 Axes>"
      ]
     },
     "metadata": {},
     "output_type": "display_data"
    }
   ],
   "source": [
    "# Scatterplot of predicted vs true values\n",
    "scatterdf = pd.DataFrame({'y_pred': y_pred, 'y_test': y_test})\n",
    "\n",
    "sns.scatterplot(data=scatterdf, x=\"y_pred\", y=\"y_test\")"
   ]
  },
  {
   "cell_type": "markdown",
   "id": "3ca34085-14cc-45fd-91de-eb74d8d2a169",
   "metadata": {},
   "source": [
    "Based on the Mean Absolute Error score of 2.98 (which I think means that we are 2 percentage points off between the predicted and test values) and the fact that our scatterplot follows a 45 degree angle pretty closely, the random forest model for the continuous y variable seems to fit pretty well. Next I'll try to use a neural network model, and see if there are any significant differences."
   ]
  },
  {
   "cell_type": "code",
   "execution_count": 307,
   "id": "b25e3695-9d85-4129-b5eb-fdbe5afc1214",
   "metadata": {},
   "outputs": [
    {
     "data": {
      "text/html": [
       "<div>\n",
       "<style scoped>\n",
       "    .dataframe tbody tr th:only-of-type {\n",
       "        vertical-align: middle;\n",
       "    }\n",
       "\n",
       "    .dataframe tbody tr th {\n",
       "        vertical-align: top;\n",
       "    }\n",
       "\n",
       "    .dataframe thead th {\n",
       "        text-align: right;\n",
       "    }\n",
       "</style>\n",
       "<table border=\"1\" class=\"dataframe\">\n",
       "  <thead>\n",
       "    <tr style=\"text-align: right;\">\n",
       "      <th></th>\n",
       "      <th>median_hh_income</th>\n",
       "      <th>pct_renter</th>\n",
       "      <th>pct_biden</th>\n",
       "      <th>white</th>\n",
       "      <th>black</th>\n",
       "      <th>asian</th>\n",
       "      <th>male</th>\n",
       "      <th>female</th>\n",
       "      <th>pct_owner</th>\n",
       "      <th>PR_21_N</th>\n",
       "      <th>...</th>\n",
       "      <th>PRSREP01</th>\n",
       "      <th>NAME</th>\n",
       "      <th>tenure_total</th>\n",
       "      <th>owner_occ</th>\n",
       "      <th>renter_occ</th>\n",
       "      <th>state</th>\n",
       "      <th>county</th>\n",
       "      <th>PR_21_won</th>\n",
       "      <th>pct_Prop_21_Y</th>\n",
       "      <th>owner</th>\n",
       "    </tr>\n",
       "    <tr>\n",
       "      <th>tract</th>\n",
       "      <th></th>\n",
       "      <th></th>\n",
       "      <th></th>\n",
       "      <th></th>\n",
       "      <th></th>\n",
       "      <th></th>\n",
       "      <th></th>\n",
       "      <th></th>\n",
       "      <th></th>\n",
       "      <th></th>\n",
       "      <th></th>\n",
       "      <th></th>\n",
       "      <th></th>\n",
       "      <th></th>\n",
       "      <th></th>\n",
       "      <th></th>\n",
       "      <th></th>\n",
       "      <th></th>\n",
       "      <th></th>\n",
       "      <th></th>\n",
       "      <th></th>\n",
       "    </tr>\n",
       "  </thead>\n",
       "  <tbody>\n",
       "    <tr>\n",
       "      <th>101110</th>\n",
       "      <td>-0.280783</td>\n",
       "      <td>-0.259311</td>\n",
       "      <td>-1.685960</td>\n",
       "      <td>0.952248</td>\n",
       "      <td>-0.578251</td>\n",
       "      <td>-0.389306</td>\n",
       "      <td>-0.104520</td>\n",
       "      <td>0.069186</td>\n",
       "      <td>0.259311</td>\n",
       "      <td>1024.227956</td>\n",
       "      <td>...</td>\n",
       "      <td>895.321045</td>\n",
       "      <td>Census Tract 1011.10, Los Angeles County, Cali...</td>\n",
       "      <td>1575.0</td>\n",
       "      <td>843</td>\n",
       "      <td>732.0</td>\n",
       "      <td>06</td>\n",
       "      <td>037</td>\n",
       "      <td>False</td>\n",
       "      <td>45.576598</td>\n",
       "      <td>843.0</td>\n",
       "    </tr>\n",
       "    <tr>\n",
       "      <th>101122</th>\n",
       "      <td>0.497620</td>\n",
       "      <td>-1.332167</td>\n",
       "      <td>-1.757765</td>\n",
       "      <td>0.646000</td>\n",
       "      <td>-0.482256</td>\n",
       "      <td>-0.533759</td>\n",
       "      <td>-0.625008</td>\n",
       "      <td>-0.497237</td>\n",
       "      <td>1.332167</td>\n",
       "      <td>1138.460030</td>\n",
       "      <td>...</td>\n",
       "      <td>896.821118</td>\n",
       "      <td>Census Tract 1011.22, Los Angeles County, Cali...</td>\n",
       "      <td>1312.0</td>\n",
       "      <td>1072</td>\n",
       "      <td>240.0</td>\n",
       "      <td>06</td>\n",
       "      <td>037</td>\n",
       "      <td>False</td>\n",
       "      <td>39.625990</td>\n",
       "      <td>1072.0</td>\n",
       "    </tr>\n",
       "    <tr>\n",
       "      <th>101210</th>\n",
       "      <td>-0.844578</td>\n",
       "      <td>1.113617</td>\n",
       "      <td>-1.524186</td>\n",
       "      <td>2.040016</td>\n",
       "      <td>-0.265829</td>\n",
       "      <td>-0.187591</td>\n",
       "      <td>1.542437</td>\n",
       "      <td>0.989622</td>\n",
       "      <td>-1.113617</td>\n",
       "      <td>714.308221</td>\n",
       "      <td>...</td>\n",
       "      <td>723.604530</td>\n",
       "      <td>Census Tract 1012.10, Los Angeles County, Cali...</td>\n",
       "      <td>2297.0</td>\n",
       "      <td>401</td>\n",
       "      <td>1896.0</td>\n",
       "      <td>06</td>\n",
       "      <td>037</td>\n",
       "      <td>True</td>\n",
       "      <td>54.320926</td>\n",
       "      <td>401.0</td>\n",
       "    </tr>\n",
       "    <tr>\n",
       "      <th>101220</th>\n",
       "      <td>-0.855303</td>\n",
       "      <td>0.277379</td>\n",
       "      <td>-1.654982</td>\n",
       "      <td>0.355649</td>\n",
       "      <td>-0.459566</td>\n",
       "      <td>-0.376292</td>\n",
       "      <td>-0.510601</td>\n",
       "      <td>-0.245765</td>\n",
       "      <td>-0.277379</td>\n",
       "      <td>761.014272</td>\n",
       "      <td>...</td>\n",
       "      <td>604.907175</td>\n",
       "      <td>Census Tract 1012.20, Los Angeles County, Cali...</td>\n",
       "      <td>1357.0</td>\n",
       "      <td>535</td>\n",
       "      <td>822.0</td>\n",
       "      <td>06</td>\n",
       "      <td>037</td>\n",
       "      <td>False</td>\n",
       "      <td>40.995762</td>\n",
       "      <td>535.0</td>\n",
       "    </tr>\n",
       "    <tr>\n",
       "      <th>101300</th>\n",
       "      <td>0.247968</td>\n",
       "      <td>-1.527979</td>\n",
       "      <td>-1.678285</td>\n",
       "      <td>0.954758</td>\n",
       "      <td>-0.253612</td>\n",
       "      <td>-0.567595</td>\n",
       "      <td>-0.284302</td>\n",
       "      <td>-0.243323</td>\n",
       "      <td>1.527979</td>\n",
       "      <td>1218.104598</td>\n",
       "      <td>...</td>\n",
       "      <td>948.800765</td>\n",
       "      <td>Census Tract 1013, Los Angeles County, California</td>\n",
       "      <td>1445.0</td>\n",
       "      <td>1255</td>\n",
       "      <td>190.0</td>\n",
       "      <td>06</td>\n",
       "      <td>037</td>\n",
       "      <td>False</td>\n",
       "      <td>39.522218</td>\n",
       "      <td>1255.0</td>\n",
       "    </tr>\n",
       "  </tbody>\n",
       "</table>\n",
       "<p>5 rows × 22 columns</p>\n",
       "</div>"
      ],
      "text/plain": [
       "        median_hh_income  pct_renter  pct_biden     white     black     asian  \\\n",
       "tract                                                                           \n",
       "101110         -0.280783   -0.259311  -1.685960  0.952248 -0.578251 -0.389306   \n",
       "101122          0.497620   -1.332167  -1.757765  0.646000 -0.482256 -0.533759   \n",
       "101210         -0.844578    1.113617  -1.524186  2.040016 -0.265829 -0.187591   \n",
       "101220         -0.855303    0.277379  -1.654982  0.355649 -0.459566 -0.376292   \n",
       "101300          0.247968   -1.527979  -1.678285  0.954758 -0.253612 -0.567595   \n",
       "\n",
       "            male    female  pct_owner      PR_21_N  ...    PRSREP01  \\\n",
       "tract                                               ...               \n",
       "101110 -0.104520  0.069186   0.259311  1024.227956  ...  895.321045   \n",
       "101122 -0.625008 -0.497237   1.332167  1138.460030  ...  896.821118   \n",
       "101210  1.542437  0.989622  -1.113617   714.308221  ...  723.604530   \n",
       "101220 -0.510601 -0.245765  -0.277379   761.014272  ...  604.907175   \n",
       "101300 -0.284302 -0.243323   1.527979  1218.104598  ...  948.800765   \n",
       "\n",
       "                                                     NAME  tenure_total  \\\n",
       "tract                                                                     \n",
       "101110  Census Tract 1011.10, Los Angeles County, Cali...        1575.0   \n",
       "101122  Census Tract 1011.22, Los Angeles County, Cali...        1312.0   \n",
       "101210  Census Tract 1012.10, Los Angeles County, Cali...        2297.0   \n",
       "101220  Census Tract 1012.20, Los Angeles County, Cali...        1357.0   \n",
       "101300  Census Tract 1013, Los Angeles County, California        1445.0   \n",
       "\n",
       "       owner_occ  renter_occ state  county PR_21_won pct_Prop_21_Y   owner  \n",
       "tract                                                                       \n",
       "101110       843       732.0    06     037     False     45.576598   843.0  \n",
       "101122      1072       240.0    06     037     False     39.625990  1072.0  \n",
       "101210       401      1896.0    06     037      True     54.320926   401.0  \n",
       "101220       535       822.0    06     037     False     40.995762   535.0  \n",
       "101300      1255       190.0    06     037     False     39.522218  1255.0  \n",
       "\n",
       "[5 rows x 22 columns]"
      ]
     },
     "execution_count": 307,
     "metadata": {},
     "output_type": "execute_result"
    }
   ],
   "source": [
    "# Trying a neural network\n",
    "# First standardize the data\n",
    "\n",
    "from sklearn import preprocessing\n",
    "scaler = preprocessing.StandardScaler().fit(joinedDf[xvars])\n",
    "\n",
    "df_scaled = pd.DataFrame(scaler.transform(joinedDf[xvars]), \n",
    "                         columns=xvars, index=joinedDf.index)\n",
    "\n",
    "df_scaled = df_scaled.join(joinedDf.drop(columns=xvars))\n",
    "\n",
    "df_scaled = df_scaled.dropna(subset=xvars)\n",
    "df_scaled.head()"
   ]
  },
  {
   "cell_type": "code",
   "execution_count": 309,
   "id": "0501f429-11b4-4a3d-8834-bc7ebb8cac8e",
   "metadata": {},
   "outputs": [],
   "source": [
    "# train/test split and run neural network, first on True/False y variable to see if it works\n",
    "yvar = 'PR_21_won'\n",
    "\n",
    "X_train, X_test, y_train, y_test = train_test_split(\n",
    "      df_scaled[xvars], df_scaled[yvar], test_size = 0.25, random_state = 1)\n",
    "\n",
    "from sklearn.neural_network import MLPClassifier\n",
    "mlp = MLPClassifier(hidden_layer_sizes=(10, 10, 10), max_iter=1000)\n",
    "mlp.fit(X_train, y_train)\n",
    "y_pred = mlp.predict(X_test)"
   ]
  },
  {
   "cell_type": "code",
   "execution_count": 311,
   "id": "e779e122-8b04-4f28-bf57-0746f8041600",
   "metadata": {},
   "outputs": [
    {
     "data": {
      "text/plain": [
       "<sklearn.metrics._plot.confusion_matrix.ConfusionMatrixDisplay at 0x31c16a600>"
      ]
     },
     "execution_count": 311,
     "metadata": {},
     "output_type": "execute_result"
    },
    {
     "data": {
      "image/png": "[encoded data removed]",
      "text/plain": [
       "<Figure size 640x480 with 2 Axes>"
      ]
     },
     "metadata": {},
     "output_type": "display_data"
    }
   ],
   "source": [
    "# print confusion matrix\n",
    "ConfusionMatrixDisplay.from_predictions(y_test, y_pred)"
   ]
  },
  {
   "cell_type": "markdown",
   "id": "b88aec61-86a6-4af7-8ee8-f62f948d329f",
   "metadata": {},
   "source": [
    "The neural network seems to work for the binary y variable data (even a smidge better than the random forest model), so now I will try the neural network regressor for the continuous y variable. "
   ]
  },
  {
   "cell_type": "code",
   "execution_count": 313,
   "id": "ecbf6fca-3fb8-4110-8114-55763ddfe9a8",
   "metadata": {},
   "outputs": [
    {
     "name": "stdout",
     "output_type": "stream",
     "text": [
      "Mean Absolute Error (MAE): 3.0983457781908204\n"
     ]
    }
   ],
   "source": [
    "# now try neural network on the continuous y variable\n",
    "\n",
    "yvar = 'pct_Prop_21_Y'\n",
    "\n",
    "X_train, X_test, y_train, y_test = train_test_split(\n",
    "      df_scaled[xvars], df_scaled[yvar], test_size = 0.25, random_state = 1)\n",
    "\n",
    "from sklearn.neural_network import MLPRegressor\n",
    "mlp = MLPRegressor(hidden_layer_sizes=(10, 10, 10), max_iter=1000)\n",
    "mlp.fit(X_train, y_train)\n",
    "y_pred = mlp.predict(X_test)\n",
    "\n",
    "print('Mean Absolute Error (MAE):', metrics.mean_absolute_error(y_test, y_pred))"
   ]
  },
  {
   "cell_type": "code",
   "execution_count": 315,
   "id": "317ea768-21ca-4d50-9df7-1f5f37fe2f04",
   "metadata": {},
   "outputs": [
    {
     "data": {
      "text/plain": [
       "<Axes: xlabel='y_pred', ylabel='y_test'>"
      ]
     },
     "execution_count": 315,
     "metadata": {},
     "output_type": "execute_result"
    },
    {
     "data": {
      "image/png": "[encoded data removed]",
      "text/plain": [
       "<Figure size 640x480 with 1 Axes>"
      ]
     },
     "metadata": {},
     "output_type": "display_data"
    }
   ],
   "source": [
    "scatterdf = pd.DataFrame({'y_pred': y_pred, 'y_test': y_test})\n",
    "\n",
    "sns.scatterplot(data=scatterdf, x=\"y_pred\", y=\"y_test\")"
   ]
  },
  {
   "cell_type": "markdown",
   "id": "d23aa363-5eae-4e47-bd81-bc5089704dc2",
   "metadata": {},
   "source": [
    "The neural network model also seems to fit well for predicting whether voters in a tract voted yes on Prop 21! However, the mean absolute error value is just a hair higher, showing that the model does not fit as well as the random forest model, but the difference is quite slight. The scattersplot for the neural network model also indicates that the model fits well, as the data seems to follow a 45 degree angle. "
   ]
  }
 ],
 "metadata": {
  "kernelspec": {
   "display_name": "Python [conda env:uds]",
   "language": "python",
   "name": "conda-env-uds-py"
  },
  "language_info": {
   "codemirror_mode": {
    "name": "ipython",
    "version": 3
   },
   "file_extension": ".py",
   "mimetype": "text/x-python",
   "name": "python",
   "nbconvert_exporter": "python",
   "pygments_lexer": "ipython3",
   "version": "3.12.9"
  }
 },
 "nbformat": 4,
 "nbformat_minor": 5
}
